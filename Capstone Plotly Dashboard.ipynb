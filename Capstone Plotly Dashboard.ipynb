{
    "cells": [
        {
            "cell_type": "markdown",
            "metadata": {
                "id": "wcOgZQCUpFmk"
            },
            "source": "# **SpaceX  Falcon 9 first stage Landing Prediction**\n"
        },
        {
            "cell_type": "markdown",
            "metadata": {
                "id": "QbODfDtTpN98"
            },
            "source": "# Lab 6: Building an interactive dashboard using Plotly and Dash\n"
        },
        {
            "cell_type": "markdown",
            "metadata": {
                "id": "MJR2Pox5pjmN"
            },
            "source": "## Objectives\n"
        },
        {
            "cell_type": "markdown",
            "metadata": {
                "id": "x9IBD99hpk6v"
            },
            "source": "In this lab, we will build a dashboard using pandas dash package and plot charts using Plotly..\n\n*   Build an interactive dashboard app using pandas dash.\n*   Plot interactive charts in the dashboard using Plotly.\n"
        },
        {
            "cell_type": "markdown",
            "metadata": {
                "id": "q6LZcDTMp_OM"
            },
            "source": "***"
        },
        {
            "cell_type": "markdown",
            "metadata": {
                "id": "uujiBWCdpW5Y"
            },
            "source": "Install the necessary packages"
        },
        {
            "cell_type": "code",
            "execution_count": 1,
            "metadata": {
                "colab": {
                    "base_uri": "https://localhost:8080/"
                },
                "id": "3ngJD85mBIEx",
                "outputId": "59252171-adc3-4e79-e333-de564730deef"
            },
            "outputs": [
                {
                    "name": "stdout",
                    "output_type": "stream",
                    "text": "Requirement already satisfied: pandas in /opt/conda/envs/Python-3.8-main/lib/python3.8/site-packages (1.2.4)\nRequirement already satisfied: dash in /opt/conda/envs/Python-3.8-main/lib/python3.8/site-packages (2.2.0)\nRequirement already satisfied: python-dateutil>=2.7.3 in /opt/conda/envs/Python-3.8-main/lib/python3.8/site-packages (from pandas) (2.8.1)\nRequirement already satisfied: pytz>=2017.3 in /opt/conda/envs/Python-3.8-main/lib/python3.8/site-packages (from pandas) (2021.1)\nRequirement already satisfied: numpy>=1.16.5 in /opt/conda/envs/Python-3.8-main/lib/python3.8/site-packages (from pandas) (1.19.2)\nRequirement already satisfied: six>=1.5 in /opt/conda/envs/Python-3.8-main/lib/python3.8/site-packages (from python-dateutil>=2.7.3->pandas) (1.15.0)\nRequirement already satisfied: Flask>=1.0.4 in /opt/conda/envs/Python-3.8-main/lib/python3.8/site-packages (from dash) (2.0.3)\nRequirement already satisfied: dash-table==5.0.0 in /opt/conda/envs/Python-3.8-main/lib/python3.8/site-packages (from dash) (5.0.0)\nRequirement already satisfied: flask-compress in /opt/conda/envs/Python-3.8-main/lib/python3.8/site-packages (from dash) (1.11)\nRequirement already satisfied: dash-html-components==2.0.0 in /opt/conda/envs/Python-3.8-main/lib/python3.8/site-packages (from dash) (2.0.0)\nRequirement already satisfied: plotly>=5.0.0 in /opt/conda/envs/Python-3.8-main/lib/python3.8/site-packages (from dash) (5.6.0)\nRequirement already satisfied: dash-core-components==2.0.0 in /opt/conda/envs/Python-3.8-main/lib/python3.8/site-packages (from dash) (2.0.0)\nRequirement already satisfied: Jinja2>=3.0 in /opt/conda/envs/Python-3.8-main/lib/python3.8/site-packages (from Flask>=1.0.4->dash) (3.0.0)\nRequirement already satisfied: Werkzeug>=2.0 in /opt/conda/envs/Python-3.8-main/lib/python3.8/site-packages (from Flask>=1.0.4->dash) (2.0.1)\nRequirement already satisfied: itsdangerous>=2.0 in /opt/conda/envs/Python-3.8-main/lib/python3.8/site-packages (from Flask>=1.0.4->dash) (2.1.1)\nRequirement already satisfied: click>=7.1.2 in /opt/conda/envs/Python-3.8-main/lib/python3.8/site-packages (from Flask>=1.0.4->dash) (7.1.2)\nRequirement already satisfied: MarkupSafe>=2.0.0rc2 in /opt/conda/envs/Python-3.8-main/lib/python3.8/site-packages (from Jinja2>=3.0->Flask>=1.0.4->dash) (2.0.1)\nRequirement already satisfied: tenacity>=6.2.0 in /opt/conda/envs/Python-3.8-main/lib/python3.8/site-packages (from plotly>=5.0.0->dash) (8.0.1)\nRequirement already satisfied: brotli in /opt/conda/envs/Python-3.8-main/lib/python3.8/site-packages (from flask-compress->dash) (1.0.9)\nRequirement already satisfied: wget in /opt/conda/envs/Python-3.8-main/lib/python3.8/site-packages (3.2)\n"
                }
            ],
            "source": "!pip install pandas dash\n!pip install wget"
        },
        {
            "cell_type": "markdown",
            "metadata": {
                "id": "Z3S0i_JLpbuJ"
            },
            "source": "Download the dataset"
        },
        {
            "cell_type": "code",
            "execution_count": 2,
            "metadata": {
                "colab": {
                    "base_uri": "https://localhost:8080/"
                },
                "id": "dFaN5uCH8qM7",
                "outputId": "8f68b52d-9917-46fc-c74f-8dea5efe04e6"
            },
            "outputs": [
                {
                    "name": "stdout",
                    "output_type": "stream",
                    "text": "--2022-03-11 22:05:44--  https://cf-courses-data.s3.us.cloud-object-storage.appdomain.cloud/IBM-DS0321EN-SkillsNetwork/datasets/spacex_launch_dash.csv\nResolving cf-courses-data.s3.us.cloud-object-storage.appdomain.cloud (cf-courses-data.s3.us.cloud-object-storage.appdomain.cloud)... 198.23.119.245\nConnecting to cf-courses-data.s3.us.cloud-object-storage.appdomain.cloud (cf-courses-data.s3.us.cloud-object-storage.appdomain.cloud)|198.23.119.245|:443... connected.\nHTTP request sent, awaiting response... 200 OK\nLength: 3033 (3.0K) [text/csv]\nSaving to: \u2018spacex_launch_dash.csv\u2019\n\nspacex_launch_dash. 100%[===================>]   2.96K  --.-KB/s    in 0s      \n\n2022-03-11 22:05:44 (76.6 MB/s) - \u2018spacex_launch_dash.csv\u2019 saved [3033/3033]\n\n"
                }
            ],
            "source": "!wget -O spacex_launch_dash.csv https://cf-courses-data.s3.us.cloud-object-storage.appdomain.cloud/IBM-DS0321EN-SkillsNetwork/datasets/spacex_launch_dash.csv"
        },
        {
            "cell_type": "markdown",
            "metadata": {
                "id": "aHaL_4bzqEZC"
            },
            "source": "Inspect the dataset"
        },
        {
            "cell_type": "code",
            "execution_count": 3,
            "metadata": {
                "colab": {
                    "base_uri": "https://localhost:8080/",
                    "height": 203
                },
                "id": "PR4e83zdWTF4",
                "outputId": "8c1c6ea5-ca3f-4321-8520-f8ca496b4824"
            },
            "outputs": [
                {
                    "data": {
                        "text/html": "<div>\n<style scoped>\n    .dataframe tbody tr th:only-of-type {\n        vertical-align: middle;\n    }\n\n    .dataframe tbody tr th {\n        vertical-align: top;\n    }\n\n    .dataframe thead th {\n        text-align: right;\n    }\n</style>\n<table border=\"1\" class=\"dataframe\">\n  <thead>\n    <tr style=\"text-align: right;\">\n      <th></th>\n      <th>Unnamed: 0</th>\n      <th>Flight Number</th>\n      <th>Launch Site</th>\n      <th>Mission Outcome</th>\n      <th>class</th>\n      <th>Payload Mass (kg)</th>\n      <th>Booster Version</th>\n      <th>Booster Version Category</th>\n    </tr>\n  </thead>\n  <tbody>\n    <tr>\n      <th>0</th>\n      <td>0</td>\n      <td>1</td>\n      <td>CCAFS LC-40</td>\n      <td>Success</td>\n      <td>0</td>\n      <td>0.0</td>\n      <td>F9 v1.0  B0003</td>\n      <td>v1.0</td>\n    </tr>\n    <tr>\n      <th>1</th>\n      <td>1</td>\n      <td>2</td>\n      <td>CCAFS LC-40</td>\n      <td>Success</td>\n      <td>0</td>\n      <td>0.0</td>\n      <td>F9 v1.0  B0004</td>\n      <td>v1.0</td>\n    </tr>\n    <tr>\n      <th>2</th>\n      <td>2</td>\n      <td>3</td>\n      <td>CCAFS LC-40</td>\n      <td>Success</td>\n      <td>0</td>\n      <td>525.0</td>\n      <td>F9 v1.0  B0005</td>\n      <td>v1.0</td>\n    </tr>\n    <tr>\n      <th>3</th>\n      <td>3</td>\n      <td>4</td>\n      <td>CCAFS LC-40</td>\n      <td>Success</td>\n      <td>0</td>\n      <td>500.0</td>\n      <td>F9 v1.0  B0006</td>\n      <td>v1.0</td>\n    </tr>\n    <tr>\n      <th>4</th>\n      <td>4</td>\n      <td>5</td>\n      <td>CCAFS LC-40</td>\n      <td>Success</td>\n      <td>0</td>\n      <td>677.0</td>\n      <td>F9 v1.0  B0007</td>\n      <td>v1.0</td>\n    </tr>\n  </tbody>\n</table>\n</div>",
                        "text/plain": "   Unnamed: 0  Flight Number  Launch Site Mission Outcome  class  \\\n0           0              1  CCAFS LC-40         Success      0   \n1           1              2  CCAFS LC-40         Success      0   \n2           2              3  CCAFS LC-40         Success      0   \n3           3              4  CCAFS LC-40         Success      0   \n4           4              5  CCAFS LC-40         Success      0   \n\n   Payload Mass (kg) Booster Version Booster Version Category  \n0                0.0  F9 v1.0  B0003                     v1.0  \n1                0.0  F9 v1.0  B0004                     v1.0  \n2              525.0  F9 v1.0  B0005                     v1.0  \n3              500.0  F9 v1.0  B0006                     v1.0  \n4              677.0  F9 v1.0  B0007                     v1.0  "
                    },
                    "execution_count": 3,
                    "metadata": {},
                    "output_type": "execute_result"
                }
            ],
            "source": "import pandas as pd\nspacex_data = pd.read_csv('spacex_launch_dash.csv')\nspacex_data.head()"
        },
        {
            "cell_type": "markdown",
            "metadata": {
                "id": "f29DPObwqOM8"
            },
            "source": "Install ngrok for running the app in a separate tab in your browser"
        },
        {
            "cell_type": "code",
            "execution_count": null,
            "metadata": {
                "colab": {
                    "base_uri": "https://localhost:8080/"
                },
                "id": "Z7vdYbURQb4A",
                "outputId": "e6326a05-df9b-40b4-c20f-b44d528cd9c9"
            },
            "outputs": [
                {
                    "name": "stdout",
                    "output_type": "stream",
                    "text": "--2022-03-11 22:05:53--  https://bin.equinox.io/c/4VmDzA7iaHb/ngrok-stable-linux-amd64.zip\nResolving bin.equinox.io (bin.equinox.io)... 54.161.241.46, 54.237.133.81, 52.202.168.65, ...\nConnecting to bin.equinox.io (bin.equinox.io)|54.161.241.46|:443... connected.\nHTTP request sent, awaiting response... 200 OK\nLength: 13832437 (13M) [application/octet-stream]\nSaving to: \u2018ngrok-stable-linux-amd64.zip.1\u2019\n\nngrok-stable-linux- 100%[===================>]  13.19M  33.7MB/s    in 0.4s    \n\n2022-03-11 22:05:53 (33.7 MB/s) - \u2018ngrok-stable-linux-amd64.zip.1\u2019 saved [13832437/13832437]\n\nArchive:  ngrok-stable-linux-amd64.zip\nreplace ngrok? [y]es, [n]o, [A]ll, [N]one, [r]ename: "
                }
            ],
            "source": "### Install ngrok\n!wget https://bin.equinox.io/c/4VmDzA7iaHb/ngrok-stable-linux-amd64.zip\n!unzip ngrok-stable-linux-amd64.zip\n\n### Run ngrok to tunnel Dash app port 8050 to the outside world. \n### This command runs in the background.\nget_ipython().system_raw('./ngrok http 8050 &')\n\n### Get the public URL where you can access the Dash app. Copy this URL.\n!curl -s http://localhost:4040/api/tunnels | python3 -c \"import sys, json; print(json.load(sys.stdin)['tunnels'][0]['public_url'])\""
        },
        {
            "cell_type": "markdown",
            "metadata": {
                "id": "shqI3a-wqXyc"
            },
            "source": "Build the dash app and save it as `spacex_dash_app.py`"
        },
        {
            "cell_type": "code",
            "execution_count": null,
            "metadata": {
                "colab": {
                    "base_uri": "https://localhost:8080/"
                },
                "id": "z0SQkWLKAYMc",
                "outputId": "3855228d-0ea4-4241-eed0-430fda797475"
            },
            "outputs": [],
            "source": "%%writefile spacex_dash_app1.py\n# Import required libraries\nimport pandas as pd\nimport dash\nimport dash_html_components as html\nimport dash_core_components as dcc\nfrom dash.dependencies import Input, Output\nimport plotly.express as px\n\n# Read the airline data into pandas dataframe\nspacex_df = pd.read_csv(\"spacex_launch_dash.csv\")\nmax_payload = spacex_df['Payload Mass (kg)'].max()\nmin_payload = spacex_df['Payload Mass (kg)'].min()\n\n# Create a dash application\napp = dash.Dash(__name__)\n\n# Create an app layout\napp.layout = html.Div(children=[html.H1('SpaceX Launch Records Dashboard',\n                                        style={'textAlign': 'center', 'color': '#503D36',\n                                               'font-size': 40}),\n                                # Add a dropdown list to enable Launch Site selection\n                                # The default select value is for ALL sites\n                                html.Label('Dropdown'),\n                                dcc.Dropdown(id='site-dropdown',\n                                    options=[\n                                             {'label':'All Sites', 'value':'All Sites'},\n                                             {'label':'CCAFS LC-40', 'value':'CCAFS LC-40'},\n                                             {'label':'KSC LC-39A', 'value':'KSC LC-39A'},\n                                             {'label':'VAFB SLC-4E', 'value':'VAFB SLC-4E'},\n                                             {'label':'CCAFS SLC-40', 'value':'CCAFS SLC-40'}\n                                    ],\n                                    value='All Sites',\n                                    placeholder='Select a Launch Site here',\n                                    searchable=True\n                                ),\n                                html.Br(),\n\n                                # Add a pie chart to show the total successful launches count for all sites\n                                # If a specific launch site was selected, show the Success vs. Failed counts for the site\n                                html.Div(dcc.Graph(id='success-pie-chart')),\n                                html.Br(),\n\n                                html.P(\"Payload range (Kg):\"),\n                                # Add a slider to select payload range\n                                dcc.RangeSlider(id='payload-slider', min=0, max=10000, step=1000,\n                                                marks={i: '{} (Kg)'.format(i) for i in range(0, 10001, 1000)},\n                                                value=[min_payload, max_payload]),\n\n                                # Add a scatter chart to show the correlation between payload and launch success\n                                html.Div(dcc.Graph(id='success-payload-scatter-chart')),\n                                ])\n\n\n# Add a callback function for `site-dropdown` as input, `success-pie-chart` as output\n@app.callback( Output(component_id='success-pie-chart', component_property='figure'),\n               Input(component_id='site-dropdown', component_property='value'))\ndef get_pie(site_sel):\n  if site_sel == 'All Sites':\n    piedata = spacex_df[['Launch Site', 'class']]\n    piedat = piedata.groupby(['Launch Site']).sum()\n    pie_fig = px.pie(piedat, values=\"class\", names=piedat.index, title='Total successful launches by site')\n    return pie_fig\n  else:\n    piedata = spacex_df[spacex_df['Launch Site']==site_sel]\n    piedat = piedata['class'].value_counts()\n    pie_fig = px.pie(piedat, names=piedat.index, values=piedat.values, title='Total successful launches for site {}'.format(site_sel))\n    return pie_fig\n\n# Add a callback function for `site-dropdown` and `payload-slider` as inputs, `success-payload-scatter-chart` as output\n@app.callback( Output(component_id='success-payload-scatter-chart', component_property='figure'),\n               [Input(component_id='site-dropdown', component_property='value'),\n                Input(component_id='payload-slider', component_property='value')])\ndef get_sct(sel_site, payload):\n  if sel_site == 'All Sites':\n    sctdata = spacex_df[['Launch Site', 'class', 'Payload Mass (kg)', 'Booster Version Category']]\n    sctdat = spacex_df[(spacex_df['Payload Mass (kg)'] >= payload[0]) & (spacex_df['Payload Mass (kg)'] <= payload[1])]\n    sct_fig = px.scatter(sctdat, x=\"Payload Mass (kg)\", y=\"class\", color=\"Booster Version Category\")\n    return sct_fig\n  else:\n    sctdata = spacex_df[['Launch Site', 'class', 'Payload Mass (kg)', 'Booster Version Category']]\n    sctdat1 = sctdata[sctdata['Launch Site']==sel_site]\n    sctdat = sctdat1[(sctdat1['Payload Mass (kg)'] >= payload[0]) & (sctdat1['Payload Mass (kg)'] <= payload[1])]\n    sct_fig = px.scatter(sctdat, x=\"Payload Mass (kg)\", y=\"class\", color=\"Booster Version Category\")\n    return sct_fig\n# Run the app\nif __name__ == '__main__':\n    app.run_server()"
        },
        {
            "cell_type": "markdown",
            "metadata": {
                "id": "x5Re9Qy-q6Zc"
            },
            "source": "Start running the app, then click on the link obtained from ngrok"
        },
        {
            "cell_type": "code",
            "execution_count": null,
            "metadata": {
                "colab": {
                    "base_uri": "https://localhost:8080/"
                },
                "id": "mNt5JHUTM5Oo",
                "outputId": "017c2789-c168-4f68-9e9f-0c5a4da80166"
            },
            "outputs": [],
            "source": "!python spacex_dash_app1.py"
        },
        {
            "cell_type": "code",
            "execution_count": null,
            "metadata": {},
            "outputs": [],
            "source": ""
        }
    ],
    "metadata": {
        "colab": {
            "collapsed_sections": [],
            "name": "07_Plotly_Dashboard.ipynb",
            "provenance": []
        },
        "kernelspec": {
            "display_name": "Python 3.8",
            "language": "python",
            "name": "python3"
        },
        "language_info": {
            "codemirror_mode": {
                "name": "ipython",
                "version": 3
            },
            "file_extension": ".py",
            "mimetype": "text/x-python",
            "name": "python",
            "nbconvert_exporter": "python",
            "pygments_lexer": "ipython3",
            "version": "3.8.12"
        }
    },
    "nbformat": 4,
    "nbformat_minor": 1
}